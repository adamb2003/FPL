{
  "nbformat": 4,
  "nbformat_minor": 0,
  "metadata": {
    "colab": {
      "provenance": [],
      "name": "fplsolver.ipynb",
      "include_colab_link": true
    },
    "kernelspec": {
      "name": "python3",
      "display_name": "Python 3"
    },
    "language_info": {
      "name": "python"
    }
  },
  "cells": [
    {
      "cell_type": "markdown",
      "metadata": {
        "id": "view-in-github",
        "colab_type": "text"
      },
      "source": [
        "<a href=\"https://colab.research.google.com/github/adamb2003/FPL/blob/main/fplsolver.ipynb\" target=\"_parent\"><img src=\"https://colab.research.google.com/assets/colab-badge.svg\" alt=\"Open In Colab\"/></a>"
      ]
    },
    {
      "cell_type": "markdown",
      "source": [
        "# FPL Python Solver - Google Colab version\n",
        "\n",
        "**Notes**\n",
        "\n",
        "- You need a prediction data (CSV) file to use this tool, either from FPLReview, Mikkel Tokvam, or The FPL Kiwi.\n",
        "- *First time here?* Check my step-by-step tutorial on YouTube: https://youtu.be/bOiCmines3M\n",
        "- You can click \"Runtime\" and select \"Disconnect and Delete Runtime\" to clear all files if you are not running this solver for the first time and having issues.\n",
        "- You need to run both blue colored 🔽 and red colored 🔻 cells if you are running this solver for the first time. If you already have the solver, you can run red colored 🔻 cells only.\n",
        "- Questions/feedbacks/comments? Send me a DM on Twitter [@sertalpbilal](https://twitter.com/messages/compose?recipient_id=14057207)"
      ],
      "metadata": {
        "id": "n8ObvRs3WXxp"
      }
    },
    {
      "cell_type": "code",
      "source": [
        "#@title 🔽 Run this cell to download the optimization solver (HiGHS)\n",
        "%%bash\n",
        "if [ -e solver ]\n",
        "then\n",
        "    echo \"Solver is already installed, continue...\"\n",
        "else\n",
        "    echo \"Downloading solver\"\n",
        "    apt-get install -qq wget\n",
        "    wget -nv https://github.com/JuliaBinaryWrappers/HiGHSstatic_jll.jl/releases/download/HiGHSstatic-v1.4.2%2B0/HiGHSstatic.v1.4.2.x86_64-linux-gnu-cxx11.tar.gz\n",
        "    mkdir solver\n",
        "    tar xzf HiGHSstatic.v1.4.2.x86_64-linux-gnu-cxx11.tar.gz -C solver\n",
        "    echo \"Done...\"\n",
        "fi"
      ],
      "metadata": {
        "cellView": "form",
        "id": "2nfZxj3sdfVR"
      },
      "execution_count": null,
      "outputs": []
    },
    {
      "cell_type": "code",
      "source": [
        "#@title 🔻 Run this cell to download (or update) FPL Optimization codes\n",
        "%%bash\n",
        "if [ -e FPL-Optimization-Tools ]\n",
        "then\n",
        "    echo \"Removing old codes\"\n",
        "    rm -rf FPL-Optimization-Tools\n",
        "else\n",
        "    echo \"Downloading codes for the first time\"\n",
        "fi\n",
        "echo \"Cloning...\"\n",
        "git clone -q https://github.com/sertalpbilal/FPL-Optimization-Tools.git\n",
        "pip install -q -r FPL-Optimization-Tools/requirements.txt\n",
        "echo \"Done!\""
      ],
      "metadata": {
        "id": "jLfcGwTYW6rn",
        "cellView": "form"
      },
      "execution_count": null,
      "outputs": []
    },
    {
      "cell_type": "code",
      "source": [
        "#@title 🔻 Enter your team ID below and run this cell\n",
        "\n",
        "team_id =   32409 #@param {type:\"integer\"}\n",
        "\n",
        "print(f\"Now visit https://fantasy.premierleague.com/api/my-team/{team_id}/ and copy the content\")"
      ],
      "metadata": {
        "id": "FU_mRwMThXmv",
        "cellView": "form"
      },
      "execution_count": null,
      "outputs": []
    },
    {
      "cell_type": "code",
      "source": [
        "#@title 🔻 Run this cell first, and once you see a textbox, paste the content of the URL to the textbox below.\n",
        "!pip install -q ipywidgets\n",
        "import ipywidgets as widgets\n",
        "team_data = widgets.Textarea(\n",
        "    value='',\n",
        "    placeholder='Put my-team URL content here',\n",
        "    description='String:',\n",
        "    disabled=False,\n",
        "    layout=widgets.Layout(width=\"500px\", height=\"100px\")\n",
        ")\n",
        "team_data"
      ],
      "metadata": {
        "id": "4G43fnYEild_",
        "cellView": "form"
      },
      "execution_count": null,
      "outputs": []
    },
    {
      "cell_type": "code",
      "source": [
        "#@title 🔻 Run this cell to parse your team information you pasted into the program.\n",
        "\n",
        "import json\n",
        "team_values = json.loads(team_data.value)\n",
        "with open('team.json', 'w') as f:\n",
        "  json.dump(team_values, f, indent=2)\n",
        "# team_values\n",
        "print(\"Done!\")"
      ],
      "metadata": {
        "id": "3stTKbEhlOxi",
        "cellView": "form"
      },
      "execution_count": null,
      "outputs": []
    },
    {
      "cell_type": "code",
      "source": [
        "import pathlib\n",
        "data_path = pathlib.Path('./data')\n",
        "data_path.mkdir(exist_ok=True)\n",
        "parent_data_path = pathlib.Path('../data')\n",
        "parent_data_path.mkdir(exist_ok=True)\n",
        "#@title 🔻 Run this cell to create the data folder, then:\n",
        "#@markdown - Click Files (📁) on the left\n",
        "#@markdown - Right click on an empty space and select \"Refresh\".\n",
        "#@markdown - Navigate to `data` directory.\n",
        "#@markdown - Right click on directory and upload FPLReview projections (should be named **fplreview.csv**)\n",
        "#@markdown - The name should be **kiwi.csv** if you are using TheFPLKiwi's projections, or **mikkel.csv** for Mikkel Tokvam's\n"
      ],
      "metadata": {
        "id": "fFjdi5PxtELJ",
        "cellView": "form"
      },
      "execution_count": null,
      "outputs": []
    },
    {
      "cell_type": "code",
      "source": [
        "import sys\n",
        "sys.path.append(\"FPL-Optimization-Tools/src\")\n",
        "\n",
        "import subprocess\n",
        "if 'o_PIPE' not in locals():\n",
        "  o_PIPE = subprocess.PIPE\n",
        "  o_POPEN = subprocess.Popen\n",
        "\n",
        "def realtime_popen(cmd, **kwargs):\n",
        "  with o_POPEN(cmd.split(), stdout=o_PIPE, bufsize=1, universal_newlines=True) as p:\n",
        "    for line in p.stdout:\n",
        "      print(line, end='')\n",
        "    return p\n",
        "\n",
        "subprocess.Popen = realtime_popen\n",
        "\n",
        "from multi_period_dev import prep_data, solve_multi_period_fpl\n",
        "#@title 🔻 Run this cell to import solver and redirect log"
      ],
      "metadata": {
        "id": "WjXIfDZAuZS-",
        "cellView": "form"
      },
      "execution_count": 11,
      "outputs": []
    },
    {
      "cell_type": "code",
      "source": [
        "options = {\n",
        "    \"horizon\": 5,\n",
        "    \"ft_value\": 1.5,\n",
        "    \"itb_value\": 0.05,\n",
        "    \"no_transfer_last_gws\": 2,\n",
        "    \"xmin_lb\": 20,\n",
        "    \"ev_per_price_cutoff\": 20,\n",
        "    \"no_future_transfer\": False,\n",
        "    \"num_transfers\": None,\n",
        "    \"secs\": 300,\n",
        "    \"banned\": [],\n",
        "    \"locked\": [],\n",
        "    \"use_wc\": None,\n",
        "    \"use_fh\": None,\n",
        "    \"use_bb\": None,\n",
        "    \"chip_limits\": {\"bb\": 0, \"wc\": 0, \"fh\": 0, \"tc\": 0},\n",
        "    \"no_chip_gws\": [],\n",
        "    \"allowed_chip_gws\": {\"bb\": [], \"wc\": [], \"fh\": [], \"tc\": []},\n",
        "    \"no_gk_rotation_after\": None,\n",
        "    \"iteration\": 1,\n",
        "    # Replace with 'kiwi' if you are using Kiwi's data, \n",
        "    # or 'mikkel' if you are using Mikkel Tokvam's data\n",
        "    'datasource': 'kiwi',\n",
        "    # do not edit parameters below this line\n",
        "    'data_path': './data/fplreview.csv',\n",
        "    'kiwi_data_path': './data/kiwi.csv',\n",
        "    'mikkel_data_path': './data/mikkel.csv',\n",
        "    'solver': 'highs',\n",
        "    'solver_path': './solver/bin/highs',\n",
        "    'presolve': 'on',\n",
        "    'use_cmd': False\n",
        "}\n",
        "data = prep_data(team_values, options)\n",
        "result = solve_multi_period_fpl(data, options)\n",
        "print(\"Done!\")\n",
        "#@title 🔻 Edit settings inside this cell and run it to start the solver"
      ],
      "metadata": {
        "id": "mCzeYWdRvAlL",
        "colab": {
          "base_uri": "https://localhost:8080/"
        },
        "outputId": "ba466e82-c359-4f04-9a02-baea3f8d3317"
      },
      "execution_count": 12,
      "outputs": [
        {
          "output_type": "stream",
          "name": "stdout",
          "text": [
            "579 total players (before)\n",
            "352 total players (after)\n",
            "Added player 81 to list, buy price 4.9 sell price 4.8\n",
            "Added player 357 to list, buy price 6.2 sell price 5.7\n",
            "Added player 283 to list, buy price 12.9 sell price 12.8\n",
            "Added player 107 to list, buy price 5.2 sell price 5.1\n",
            "Added player 133 to list, buy price 4.7 sell price 4.6\n",
            "Added player 586 to list, buy price 4.8 sell price 4.7\n",
            "Added player 335 to list, buy price 7.1 sell price 6.9\n",
            "NOTE: Initialized model mp_h5_od_d0.84.\n",
            "Exported problem with name: mp_h5_od_d0.84_pBFx9_0\n",
            "Running HiGHS 1.4.2 [date: 1970-01-01, git hash: f797c1ab6]\n",
            "Copyright (c) 2022 ERGO-Code under MIT licence terms\n",
            "Number of PL entries in BOUNDS section is 5\n",
            "Number of BV entries in BOUNDS section is 19767\n",
            "MIP  mp_h5_od_d0.84_pBFx9_0 has 34245 rows; 19784 cols; 131547 nonzeros; 19778 integer variables\n",
            "Presolving model\n",
            "18999 rows, 16940 cols, 73589 nonzeros\n",
            "17714 rows, 15423 cols, 65836 nonzeros\n",
            "\n",
            "Solving MIP model with:\n",
            "   17714 rows\n",
            "   15423 cols (15416 binary, 4 integer, 3 implied int., 0 continuous)\n",
            "   65836 nonzeros\n",
            "\n",
            "        Nodes      |    B&B Tree     |            Objective Bounds              |  Dynamic Constraints |       Work      \n",
            "     Proc. InQueue |  Leaves   Expl. | BestBound       BestSol              Gap |   Cuts   InLp Confl. | LpIters     Time\n",
            "\n",
            "         0       0         0   0.00%   -3666.044723    inf                  inf        0      0      0         0     1.0s\n",
            "         0       0         0   0.00%   -285.1832194    inf                  inf        0      0      2      7296     2.2s\n",
            " R       0       0         0   0.00%   -279.5118705    -264.5120596       5.67%      321     15      4      7588     4.0s\n",
            " L       0       0         0   0.00%   -278.5333094    -277.7423695       0.28%      893     27    192      8013    23.0s\n",
            "\n",
            "77.9% inactive integer columns, restarting\n",
            "Model after restart has 3525 rows, 3059 cols (3054 bin., 2 int., 3 impl., 0 cont.), and 13440 nonzeros\n",
            "\n",
            "         0       0         0   0.00%   -278.4887488    -277.7423695       0.27%        9      0      0     13729    25.6s\n",
            "\n",
            "10.1% inactive integer columns, restarting\n",
            "Model after restart has 3081 rows, 2685 cols (2680 bin., 2 int., 3 impl., 0 cont.), and 11793 nonzeros\n",
            "\n",
            "         0       0         0   0.00%   -278.4887488    -277.7423695       0.27%        9      0      0     15363    26.0s\n",
            "         0       0         0   0.00%   -278.4887488    -277.7423695       0.27%        9      9      5     16382    26.2s\n",
            "         0       0         0   0.00%   -278.4444925    -277.7423695       0.25%      347      9      5     20944    34.3s\n",
            "\n",
            "15.7% inactive integer columns, restarting\n",
            "Model after restart has 2585 rows, 2253 cols (2248 bin., 2 int., 3 impl., 0 cont.), and 9924 nonzeros\n",
            "\n",
            "         0       0         0   0.00%   -278.4444925    -277.7423695       0.25%        9      0      0     20944    34.4s\n",
            "         0       0         0   0.00%   -278.4444925    -277.7423695       0.25%        9      9      4     21867    34.6s\n",
            "\n",
            "12.3% inactive integer columns, restarting\n",
            "Model after restart has 2237 rows, 1953 cols (1948 bin., 2 int., 3 impl., 0 cont.), and 8723 nonzeros\n",
            "\n",
            "         0       0         0   0.00%   -278.330451     -277.7423695       0.21%       10      0      0     24488    39.7s\n",
            "         0       0         0   0.00%   -278.330451     -277.7423695       0.21%       10     10      4     25013    39.8s\n",
            "\n",
            "10.8% inactive integer columns, restarting\n",
            "Model after restart has 1913 rows, 1664 cols (1659 bin., 2 int., 3 impl., 0 cont.), and 7879 nonzeros\n",
            "\n",
            "         0       0         0   0.00%   -278.257487     -277.7423695       0.19%       13      0      0     25242    40.9s\n",
            "         0       0         0   0.00%   -278.257487     -277.7423695       0.19%       13     13     10     25876    40.9s\n",
            "\n",
            "8.2% inactive integer columns, restarting\n",
            "Model after restart has 1747 rows, 1518 cols (1513 bin., 2 int., 3 impl., 0 cont.), and 7323 nonzeros\n",
            "\n",
            "         0       0         0   0.00%   -278.2481217    -277.7423695       0.18%       15      0      0     26022    41.9s\n",
            "         0       0         0   0.00%   -278.2481217    -277.7423695       0.18%       15     15      6     26745    42.0s\n",
            "\n",
            "Solving report\n",
            "  Status            Optimal\n",
            "  Primal bound      -277.7423695\n",
            "  Dual bound        -277.767234017\n",
            "  Gap               0.00895% (tolerance: 0.01%)\n",
            "  Solution status   feasible\n",
            "                    -277.7423695 (objective)\n",
            "                    0 (bound viol.)\n",
            "                    4.4408920985e-16 (int. viol.)\n",
            "                    0 (row viol.)\n",
            "  Timing            45.62 (total)\n",
            "                    1.59 (presolve)\n",
            "                    0.00 (postsolve)\n",
            "  Nodes             3\n",
            "  LP iterations     38685 (total)\n",
            "                    11055 (strong br.)\n",
            "                    1515 (separation)\n",
            "                    12626 (heuristics)\n",
            "Cumulative xPts: 367.84\n",
            "---\n",
            "\n",
            "\n",
            "Done!\n"
          ]
        }
      ]
    },
    {
      "cell_type": "code",
      "source": [
        "#@title 🔻 Run this cell to display solutions\n",
        "\n",
        "\n",
        "\n",
        "import pandas as pd\n",
        "import datetime\n",
        "import os\n",
        "from IPython.display import display, HTML, Markdown, Javascript\n",
        "\n",
        "display(Javascript('''google.colab.output.setIframeHeight(0, true, {maxHeight: 5000})'''))\n",
        "\n",
        "for r in result:\n",
        "  iter = r['iter']\n",
        "  time_now = datetime.datetime.now()\n",
        "  stamp = time_now.strftime(\"%Y-%m-%d_%H-%M-%S\")\n",
        "  if not (os.path.exists(\"../data/results/\")):\n",
        "    pathlib.Path(\"./data/results/\").mkdir(parents=True, exist_ok=True)\n",
        "  r['picks'].to_csv(f\"./data/results/regular_{stamp}_{iter}.csv\")\n",
        "\n",
        "result_table = pd.DataFrame(result)\n",
        "rt = result_table[['iter', 'sell', 'buy', 'score']].copy()\n",
        "rt['iter'] += 1\n",
        "\n",
        "display(Markdown(f'## Solution Summary'))\n",
        "display(HTML(rt.to_html()))\n",
        "\n",
        "display(Markdown(f'## Solution Details'))\n",
        "\n",
        "for j, r in enumerate(result):\n",
        "  display(Markdown(f'### Solution {j+1}'))\n",
        "  print(r['summary'])\n"
      ],
      "metadata": {
        "id": "PkSR0glqyYdh",
        "colab": {
          "base_uri": "https://localhost:8080/",
          "height": 1498
        },
        "outputId": "d06382c8-fde0-43d3-9e76-e4fc12641a3d"
      },
      "execution_count": 13,
      "outputs": [
        {
          "output_type": "display_data",
          "data": {
            "text/plain": [
              "<IPython.core.display.Javascript object>"
            ],
            "application/javascript": [
              "google.colab.output.setIframeHeight(0, true, {maxHeight: 5000})"
            ]
          },
          "metadata": {}
        },
        {
          "output_type": "display_data",
          "data": {
            "text/plain": [
              "<IPython.core.display.Markdown object>"
            ],
            "text/markdown": "## Solution Summary"
          },
          "metadata": {}
        },
        {
          "output_type": "display_data",
          "data": {
            "text/plain": [
              "<IPython.core.display.HTML object>"
            ],
            "text/html": [
              "<table border=\"1\" class=\"dataframe\">\n",
              "  <thead>\n",
              "    <tr style=\"text-align: right;\">\n",
              "      <th></th>\n",
              "      <th>iter</th>\n",
              "      <th>sell</th>\n",
              "      <th>buy</th>\n",
              "      <th>score</th>\n",
              "    </tr>\n",
              "  </thead>\n",
              "  <tbody>\n",
              "    <tr>\n",
              "      <th>0</th>\n",
              "      <td>1</td>\n",
              "      <td>-</td>\n",
              "      <td>-</td>\n",
              "      <td>277.742369</td>\n",
              "    </tr>\n",
              "  </tbody>\n",
              "</table>"
            ]
          },
          "metadata": {}
        },
        {
          "output_type": "display_data",
          "data": {
            "text/plain": [
              "<IPython.core.display.Markdown object>"
            ],
            "text/markdown": "## Solution Details"
          },
          "metadata": {}
        },
        {
          "output_type": "display_data",
          "data": {
            "text/plain": [
              "<IPython.core.display.Markdown object>"
            ],
            "text/markdown": "### Solution 1"
          },
          "metadata": {}
        },
        {
          "output_type": "stream",
          "name": "stdout",
          "text": [
            "** GW 33:\n",
            "ITB=0.7, FT=1, PT=0, NT=0\n",
            "---\n",
            "Lineup: \n",
            "\tArrizabalaga (3.95)\n",
            "\tSchär (3.79), Estupiñán (3.84), Trippier (4.03)\n",
            "\tRashford (3.94), Fernandes (4.03), Mitoma (4.17), March (4.18), Salah (5.1, V)\n",
            "\tDarwin (3.49), Haaland (5.26, C)\n",
            "Bench: \n",
            "\tRaya, Chilwell, Shaw, Greenwood\n",
            "Lineup xPts: 51.04\n",
            "---\n",
            "\n",
            "** GW 34:\n",
            "ITB=0.4, FT=2, PT=0, NT=2\n",
            "Buy 307 - Ederson\n",
            "Buy 309 - Laporte\n",
            "Sell 81 - Raya\n",
            "Sell 139 - Chilwell\n",
            "---\n",
            "Lineup: \n",
            "\tEderson (8.35)\n",
            "\tLaporte (6.99), Shaw (7.18), Estupiñán (7.99)\n",
            "\tMitoma (8.2), March (8.39), Rashford (8.91), Fernandes (9.15), Salah (11.8, V)\n",
            "\tDarwin (8.37), Haaland (12.21, C)\n",
            "Bench: \n",
            "\tArrizabalaga, Trippier, Schär, Greenwood\n",
            "Lineup xPts: 109.75\n",
            "---\n",
            "\n",
            "** GW 35:\n",
            "ITB=0.5, FT=1, PT=0, NT=1\n",
            "Buy 116 - Mac Allister\n",
            "Sell 124 - Mitoma\n",
            "---\n",
            "Lineup: \n",
            "\tEderson (4.34)\n",
            "\tTrippier (3.64), Laporte (3.72), Estupiñán (4.33)\n",
            "\tRashford (4.33), Fernandes (4.43), March (4.47), Mac Allister (4.92), Salah (5.66, V)\n",
            "\tDarwin (3.83), Haaland (6.9, C)\n",
            "Bench: \n",
            "\tArrizabalaga, Schär, Shaw, Greenwood\n",
            "Lineup xPts: 57.47\n",
            "---\n",
            "\n",
            "** GW 36:\n",
            "ITB=0.5, FT=1, PT=0, NT=0\n",
            "---\n",
            "Lineup: \n",
            "\tArrizabalaga (4.55)\n",
            "\tLaporte (3.45), Schär (3.5), Trippier (3.77), Shaw (4.38)\n",
            "\tMac Allister (3.48), Rashford (5.13), Fernandes (5.29), Salah (5.65, V)\n",
            "\tDarwin (3.87), Haaland (5.72, C)\n",
            "Bench: \n",
            "\tEderson, March, Estupiñán, Greenwood\n",
            "Lineup xPts: 54.51\n",
            "---\n",
            "\n",
            "** GW 37:\n",
            "ITB=0.5, FT=2, PT=0, NT=0\n",
            "---\n",
            "Lineup: \n",
            "\tEderson (7.65)\n",
            "\tTrippier (4.47), Laporte (6.6), Estupiñán (7.27), Shaw (7.52)\n",
            "\tSalah (6.0), March (8.04), Mac Allister (8.86), Rashford (9.17), Fernandes (9.41, V)\n",
            "\tHaaland (10.04, C)\n",
            "Bench: \n",
            "\tArrizabalaga, Schär, Darwin, Greenwood\n",
            "Lineup xPts: 95.07\n",
            "---\n",
            "\n",
            "\n"
          ]
        }
      ]
    }
  ]
}